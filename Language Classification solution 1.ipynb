{
 "cells": [
  {
   "cell_type": "code",
   "execution_count": 1,
   "id": "aed40074",
   "metadata": {},
   "outputs": [],
   "source": [
    "import pandas as pd\n",
    "import numpy as np\n",
    "import matplotlib.pyplot as plt\n",
    "import seaborn as sns\n",
    "import warnings\n",
    "warnings.simplefilter(\"ignore\")\n",
    "import re, string\n",
    "#\n",
    "from sklearn.model_selection import train_test_split\n",
    "from sklearn.preprocessing import LabelEncoder\n",
    "from sklearn.feature_extraction.text import CountVectorizer\n",
    "from sklearn.feature_extraction.text import TfidfVectorizer\n",
    "from sklearn.naive_bayes import MultinomialNB\n",
    "from sklearn.metrics import accuracy_score, confusion_matrix, classification_report\n",
    "#\n",
    "from sklearn.svm import SVC\n",
    "from sklearn.svm import LinearSVC\n",
    "from sklearn.naive_bayes import MultinomialNB\n",
    "from sklearn.ensemble import VotingClassifier\n",
    "from sklearn.linear_model import SGDClassifier\n",
    "from sklearn.tree import DecisionTreeClassifier\n",
    "from sklearn.linear_model import RidgeClassifier\n",
    "from sklearn.multiclass import OneVsRestClassifier\n",
    "from sklearn.linear_model import LogisticRegression\n",
    "from sklearn.neighbors import NearestNeighbors\n",
    "from sklearn.tree import DecisionTreeClassifier\n",
    "from sklearn.ensemble import GradientBoostingClassifier\n",
    "from sklearn.ensemble import RandomForestClassifier\n",
    "from sklearn.naive_bayes import GaussianNB, MultinomialNB\n",
    "from sklearn.metrics import confusion_matrix\n",
    "from sklearn.pipeline import Pipeline\n",
    "from sklearn.metrics import classification_report, f1_score, accuracy_score, confusion_matrix"
   ]
  },
  {
   "cell_type": "code",
   "execution_count": 2,
   "id": "0e26abdb",
   "metadata": {},
   "outputs": [],
   "source": [
    "test_df = pd.read_csv('test_set.csv')\n",
    "train_df = pd.read_csv('train_set.csv')"
   ]
  },
  {
   "cell_type": "code",
   "execution_count": 3,
   "id": "78483ba3",
   "metadata": {},
   "outputs": [
    {
     "data": {
      "text/html": [
       "<div>\n",
       "<style scoped>\n",
       "    .dataframe tbody tr th:only-of-type {\n",
       "        vertical-align: middle;\n",
       "    }\n",
       "\n",
       "    .dataframe tbody tr th {\n",
       "        vertical-align: top;\n",
       "    }\n",
       "\n",
       "    .dataframe thead th {\n",
       "        text-align: right;\n",
       "    }\n",
       "</style>\n",
       "<table border=\"1\" class=\"dataframe\">\n",
       "  <thead>\n",
       "    <tr style=\"text-align: right;\">\n",
       "      <th></th>\n",
       "      <th>lang_id</th>\n",
       "      <th>text</th>\n",
       "    </tr>\n",
       "  </thead>\n",
       "  <tbody>\n",
       "    <tr>\n",
       "      <th>0</th>\n",
       "      <td>xho</td>\n",
       "      <td>umgaqo-siseko wenza amalungiselelo kumaziko ax...</td>\n",
       "    </tr>\n",
       "    <tr>\n",
       "      <th>1</th>\n",
       "      <td>xho</td>\n",
       "      <td>i-dha iya kuba nobulumko bokubeka umsebenzi na...</td>\n",
       "    </tr>\n",
       "    <tr>\n",
       "      <th>2</th>\n",
       "      <td>eng</td>\n",
       "      <td>the province of kwazulu-natal department of tr...</td>\n",
       "    </tr>\n",
       "    <tr>\n",
       "      <th>3</th>\n",
       "      <td>nso</td>\n",
       "      <td>o netefatša gore o ba file dilo ka moka tše le...</td>\n",
       "    </tr>\n",
       "    <tr>\n",
       "      <th>4</th>\n",
       "      <td>ven</td>\n",
       "      <td>khomishini ya ndinganyiso ya mbeu yo ewa maana...</td>\n",
       "    </tr>\n",
       "    <tr>\n",
       "      <th>...</th>\n",
       "      <td>...</td>\n",
       "      <td>...</td>\n",
       "    </tr>\n",
       "    <tr>\n",
       "      <th>32995</th>\n",
       "      <td>tsn</td>\n",
       "      <td>popo ya dipolateforomo tse ke go tlisa boetele...</td>\n",
       "    </tr>\n",
       "    <tr>\n",
       "      <th>32996</th>\n",
       "      <td>sot</td>\n",
       "      <td>modise mosadi na o ntse o sa utlwe hore thaban...</td>\n",
       "    </tr>\n",
       "    <tr>\n",
       "      <th>32997</th>\n",
       "      <td>eng</td>\n",
       "      <td>closing date for the submission of completed t...</td>\n",
       "    </tr>\n",
       "    <tr>\n",
       "      <th>32998</th>\n",
       "      <td>xho</td>\n",
       "      <td>nawuphina umntu ofunyenwe enetyala phantsi kwa...</td>\n",
       "    </tr>\n",
       "    <tr>\n",
       "      <th>32999</th>\n",
       "      <td>sot</td>\n",
       "      <td>mafapha a mang le ona a lokela ho etsa ditlale...</td>\n",
       "    </tr>\n",
       "  </tbody>\n",
       "</table>\n",
       "<p>33000 rows × 2 columns</p>\n",
       "</div>"
      ],
      "text/plain": [
       "      lang_id                                               text\n",
       "0         xho  umgaqo-siseko wenza amalungiselelo kumaziko ax...\n",
       "1         xho  i-dha iya kuba nobulumko bokubeka umsebenzi na...\n",
       "2         eng  the province of kwazulu-natal department of tr...\n",
       "3         nso  o netefatša gore o ba file dilo ka moka tše le...\n",
       "4         ven  khomishini ya ndinganyiso ya mbeu yo ewa maana...\n",
       "...       ...                                                ...\n",
       "32995     tsn  popo ya dipolateforomo tse ke go tlisa boetele...\n",
       "32996     sot  modise mosadi na o ntse o sa utlwe hore thaban...\n",
       "32997     eng  closing date for the submission of completed t...\n",
       "32998     xho  nawuphina umntu ofunyenwe enetyala phantsi kwa...\n",
       "32999     sot  mafapha a mang le ona a lokela ho etsa ditlale...\n",
       "\n",
       "[33000 rows x 2 columns]"
      ]
     },
     "execution_count": 3,
     "metadata": {},
     "output_type": "execute_result"
    }
   ],
   "source": [
    "train_df"
   ]
  },
  {
   "cell_type": "code",
   "execution_count": 4,
   "id": "9cb53806",
   "metadata": {},
   "outputs": [
    {
     "data": {
      "text/html": [
       "<div>\n",
       "<style scoped>\n",
       "    .dataframe tbody tr th:only-of-type {\n",
       "        vertical-align: middle;\n",
       "    }\n",
       "\n",
       "    .dataframe tbody tr th {\n",
       "        vertical-align: top;\n",
       "    }\n",
       "\n",
       "    .dataframe thead th {\n",
       "        text-align: right;\n",
       "    }\n",
       "</style>\n",
       "<table border=\"1\" class=\"dataframe\">\n",
       "  <thead>\n",
       "    <tr style=\"text-align: right;\">\n",
       "      <th></th>\n",
       "      <th>index</th>\n",
       "      <th>text</th>\n",
       "    </tr>\n",
       "  </thead>\n",
       "  <tbody>\n",
       "    <tr>\n",
       "      <th>0</th>\n",
       "      <td>1</td>\n",
       "      <td>Mmasepala, fa maemo a a kgethegileng a letlele...</td>\n",
       "    </tr>\n",
       "    <tr>\n",
       "      <th>1</th>\n",
       "      <td>2</td>\n",
       "      <td>Uzakwaziswa ngokufaneleko nakungafuneka eminye...</td>\n",
       "    </tr>\n",
       "    <tr>\n",
       "      <th>2</th>\n",
       "      <td>3</td>\n",
       "      <td>Tshivhumbeo tshi fana na ngano dza vhathu.</td>\n",
       "    </tr>\n",
       "    <tr>\n",
       "      <th>3</th>\n",
       "      <td>4</td>\n",
       "      <td>Kube inja nelikati betingevakala kutsi titsini...</td>\n",
       "    </tr>\n",
       "    <tr>\n",
       "      <th>4</th>\n",
       "      <td>5</td>\n",
       "      <td>Winste op buitelandse valuta.</td>\n",
       "    </tr>\n",
       "    <tr>\n",
       "      <th>...</th>\n",
       "      <td>...</td>\n",
       "      <td>...</td>\n",
       "    </tr>\n",
       "    <tr>\n",
       "      <th>5677</th>\n",
       "      <td>5678</td>\n",
       "      <td>You mark your ballot in private.</td>\n",
       "    </tr>\n",
       "    <tr>\n",
       "      <th>5678</th>\n",
       "      <td>5679</td>\n",
       "      <td>Ge o ka kgetha ka bowena go se šomiše Mofani k...</td>\n",
       "    </tr>\n",
       "    <tr>\n",
       "      <th>5679</th>\n",
       "      <td>5680</td>\n",
       "      <td>E Ka kopo etsa kgetho ya hao ka hloko, hobane ...</td>\n",
       "    </tr>\n",
       "    <tr>\n",
       "      <th>5680</th>\n",
       "      <td>5681</td>\n",
       "      <td>TB ke bokudi ba PMB, mme Morero o tla lefella ...</td>\n",
       "    </tr>\n",
       "    <tr>\n",
       "      <th>5681</th>\n",
       "      <td>5682</td>\n",
       "      <td>Vakatjhela iwebhusayidi yethu ku-www.</td>\n",
       "    </tr>\n",
       "  </tbody>\n",
       "</table>\n",
       "<p>5682 rows × 2 columns</p>\n",
       "</div>"
      ],
      "text/plain": [
       "      index                                               text\n",
       "0         1  Mmasepala, fa maemo a a kgethegileng a letlele...\n",
       "1         2  Uzakwaziswa ngokufaneleko nakungafuneka eminye...\n",
       "2         3         Tshivhumbeo tshi fana na ngano dza vhathu.\n",
       "3         4  Kube inja nelikati betingevakala kutsi titsini...\n",
       "4         5                      Winste op buitelandse valuta.\n",
       "...     ...                                                ...\n",
       "5677   5678                   You mark your ballot in private.\n",
       "5678   5679  Ge o ka kgetha ka bowena go se šomiše Mofani k...\n",
       "5679   5680  E Ka kopo etsa kgetho ya hao ka hloko, hobane ...\n",
       "5680   5681  TB ke bokudi ba PMB, mme Morero o tla lefella ...\n",
       "5681   5682              Vakatjhela iwebhusayidi yethu ku-www.\n",
       "\n",
       "[5682 rows x 2 columns]"
      ]
     },
     "execution_count": 4,
     "metadata": {},
     "output_type": "execute_result"
    }
   ],
   "source": [
    "test_df"
   ]
  },
  {
   "cell_type": "code",
   "execution_count": 5,
   "id": "880f3f00",
   "metadata": {},
   "outputs": [
    {
     "data": {
      "text/plain": [
       "lang_id    0\n",
       "text       0\n",
       "dtype: int64"
      ]
     },
     "execution_count": 5,
     "metadata": {},
     "output_type": "execute_result"
    }
   ],
   "source": [
    "# Checking for null values\n",
    "train_df.isnull().sum()"
   ]
  },
  {
   "cell_type": "code",
   "execution_count": 6,
   "id": "80713ff0",
   "metadata": {},
   "outputs": [
    {
     "name": "stdout",
     "output_type": "stream",
     "text": [
      "['xho', 'eng', 'nso', 'ven', 'tsn', 'nbl', 'zul', 'ssw', 'tso', 'sot', 'afr']\n"
     ]
    }
   ],
   "source": [
    "# languages\n",
    "lang = list(train_df.lang_id.unique())\n",
    "print(lang)"
   ]
  },
  {
   "cell_type": "code",
   "execution_count": 7,
   "id": "6153bdd3",
   "metadata": {},
   "outputs": [
    {
     "data": {
      "image/png": "[encoded data removed]",
      "text/plain": [
       "<Figure size 576x432 with 1 Axes>"
      ]
     },
     "metadata": {
      "needs_background": "light"
     },
     "output_type": "display_data"
    }
   ],
   "source": [
    "# plot of occurances in each language category\n",
    "fig = plt.figure(figsize=(8,6))\n",
    "colors = ['skyblue','skyblue','skyblue', 'skyblue']\n",
    "train_df.groupby('lang_id').lang_id.count().sort_values().plot.barh(\n",
    "ylim=0, color=colors, title= 'NUMBER OF TEXT IN EACH LANGUAGE CATEGORY\\n')\n",
    "plt.xlabel('Number of ocurrences', fontsize = 10);"
   ]
  },
  {
   "cell_type": "code",
   "execution_count": 8,
   "id": "d680b99d",
   "metadata": {},
   "outputs": [],
   "source": [
    "# As seen fron the above graph the language categories are very well balanced"
   ]
  },
  {
   "cell_type": "code",
   "execution_count": 9,
   "id": "ad7dcef2",
   "metadata": {},
   "outputs": [
    {
     "data": {
      "text/html": [
       "<div>\n",
       "<style scoped>\n",
       "    .dataframe tbody tr th:only-of-type {\n",
       "        vertical-align: middle;\n",
       "    }\n",
       "\n",
       "    .dataframe tbody tr th {\n",
       "        vertical-align: top;\n",
       "    }\n",
       "\n",
       "    .dataframe thead th {\n",
       "        text-align: right;\n",
       "    }\n",
       "</style>\n",
       "<table border=\"1\" class=\"dataframe\">\n",
       "  <thead>\n",
       "    <tr style=\"text-align: right;\">\n",
       "      <th></th>\n",
       "      <th>lang_id</th>\n",
       "      <th>text</th>\n",
       "    </tr>\n",
       "  </thead>\n",
       "  <tbody>\n",
       "    <tr>\n",
       "      <th>0</th>\n",
       "      <td>xho</td>\n",
       "      <td>umgaqo-siseko wenza amalungiselelo kumaziko axhasa ulawulo lwesininzi kunye nokuthath inxaxheba kwabafazi ezi ziquka phakathi kwezinye zazo ikomishoni yokulingana ngokwesini ikomishoni yamalungelo oluntu lomzantsi afrika</td>\n",
       "    </tr>\n",
       "    <tr>\n",
       "      <th>1</th>\n",
       "      <td>xho</td>\n",
       "      <td>i-dha iya kuba nobulumko bokubeka umsebenzi naphi na kwisebe ngokusekwe kwiimfuno zokusebenza zalo emva kokubonana nomsebenzi kunye okanye imanyano yakhe ukuba ulandulo lomntu onjalo alufanelekanga i-dha mayibize uncedo olufanelekileyo elungelweni layo</td>\n",
       "    </tr>\n",
       "    <tr>\n",
       "      <th>2</th>\n",
       "      <td>eng</td>\n",
       "      <td>the province of kwazulu-natal department of transport invites tenders from established contractors experienced in bridge construction for the construction of the kwajolwayo tugela river pedestrian bridge near tugela ferry the duration of the project will be months</td>\n",
       "    </tr>\n",
       "    <tr>\n",
       "      <th>3</th>\n",
       "      <td>nso</td>\n",
       "      <td>o netefatša gore o ba file dilo ka moka tše le dumelelanego ka tšona mohlala maleri a magolo a a šomišwago go fihlelela meagong e metelele scaffolds a a bolokegilego lefelo la maleba la go šomela go phela gabotse bjbj</td>\n",
       "    </tr>\n",
       "    <tr>\n",
       "      <th>4</th>\n",
       "      <td>ven</td>\n",
       "      <td>khomishini ya ndinganyiso ya mbeu yo ewa maana u ya nga mulayo wa khomishini ya ndinganyiso ya mbeu u thetshelesa mbilaelo dzine dza tshimbilelana na tshialula u ya nga mbeu nahone i ivhea sa foramu ya thungo u ya nga mulayo wa ndinganyiso</td>\n",
       "    </tr>\n",
       "  </tbody>\n",
       "</table>\n",
       "</div>"
      ],
      "text/plain": [
       "  lang_id  \\\n",
       "0     xho   \n",
       "1     xho   \n",
       "2     eng   \n",
       "3     nso   \n",
       "4     ven   \n",
       "\n",
       "                                                                                                                                                                                                                                                                       text  \n",
       "0                                              umgaqo-siseko wenza amalungiselelo kumaziko axhasa ulawulo lwesininzi kunye nokuthath inxaxheba kwabafazi ezi ziquka phakathi kwezinye zazo ikomishoni yokulingana ngokwesini ikomishoni yamalungelo oluntu lomzantsi afrika  \n",
       "1              i-dha iya kuba nobulumko bokubeka umsebenzi naphi na kwisebe ngokusekwe kwiimfuno zokusebenza zalo emva kokubonana nomsebenzi kunye okanye imanyano yakhe ukuba ulandulo lomntu onjalo alufanelekanga i-dha mayibize uncedo olufanelekileyo elungelweni layo  \n",
       "2  the province of kwazulu-natal department of transport invites tenders from established contractors experienced in bridge construction for the construction of the kwajolwayo tugela river pedestrian bridge near tugela ferry the duration of the project will be months  \n",
       "3                                                 o netefatša gore o ba file dilo ka moka tše le dumelelanego ka tšona mohlala maleri a magolo a a šomišwago go fihlelela meagong e metelele scaffolds a a bolokegilego lefelo la maleba la go šomela go phela gabotse bjbj  \n",
       "4                           khomishini ya ndinganyiso ya mbeu yo ewa maana u ya nga mulayo wa khomishini ya ndinganyiso ya mbeu u thetshelesa mbilaelo dzine dza tshimbilelana na tshialula u ya nga mbeu nahone i ivhea sa foramu ya thungo u ya nga mulayo wa ndinganyiso  "
      ]
     },
     "execution_count": 9,
     "metadata": {},
     "output_type": "execute_result"
    }
   ],
   "source": [
    "pd.set_option('display.max_rows', None)\n",
    "pd.set_option('display.max_colwidth', None)\n",
    "train_df.head()"
   ]
  },
  {
   "cell_type": "code",
   "execution_count": 10,
   "id": "5773f2d8",
   "metadata": {},
   "outputs": [],
   "source": [
    "train_df['text'] = train_df['text'].astype(str).values.tolist()"
   ]
  },
  {
   "cell_type": "code",
   "execution_count": 11,
   "id": "98bf3a5d",
   "metadata": {},
   "outputs": [
    {
     "data": {
      "text/plain": [
       "0                                                umgaqo-siseko wenza amalungiselelo kumaziko axhasa ulawulo lwesininzi kunye nokuthath inxaxheba kwabafazi ezi ziquka phakathi kwezinye zazo ikomishoni yokulingana ngokwesini ikomishoni yamalungelo oluntu lomzantsi afrika\n",
       "1                i-dha iya kuba nobulumko bokubeka umsebenzi naphi na kwisebe ngokusekwe kwiimfuno zokusebenza zalo emva kokubonana nomsebenzi kunye okanye imanyano yakhe ukuba ulandulo lomntu onjalo alufanelekanga i-dha mayibize uncedo olufanelekileyo elungelweni layo\n",
       "2    the province of kwazulu-natal department of transport invites tenders from established contractors experienced in bridge construction for the construction of the kwajolwayo tugela river pedestrian bridge near tugela ferry the duration of the project will be months\n",
       "3                                                   o netefatša gore o ba file dilo ka moka tše le dumelelanego ka tšona mohlala maleri a magolo a a šomišwago go fihlelela meagong e metelele scaffolds a a bolokegilego lefelo la maleba la go šomela go phela gabotse bjbj\n",
       "4                             khomishini ya ndinganyiso ya mbeu yo ewa maana u ya nga mulayo wa khomishini ya ndinganyiso ya mbeu u thetshelesa mbilaelo dzine dza tshimbilelana na tshialula u ya nga mbeu nahone i ivhea sa foramu ya thungo u ya nga mulayo wa ndinganyiso\n",
       "Name: text, dtype: object"
      ]
     },
     "execution_count": 11,
     "metadata": {},
     "output_type": "execute_result"
    }
   ],
   "source": [
    "train_df['text'].head()"
   ]
  },
  {
   "cell_type": "code",
   "execution_count": 12,
   "id": "f68ca178",
   "metadata": {},
   "outputs": [],
   "source": [
    "test_df['text'] = test_df['text'].astype(str).values.tolist()"
   ]
  },
  {
   "cell_type": "code",
   "execution_count": 13,
   "id": "d7b480cb",
   "metadata": {},
   "outputs": [
    {
     "data": {
      "text/html": [
       "<div>\n",
       "<style scoped>\n",
       "    .dataframe tbody tr th:only-of-type {\n",
       "        vertical-align: middle;\n",
       "    }\n",
       "\n",
       "    .dataframe tbody tr th {\n",
       "        vertical-align: top;\n",
       "    }\n",
       "\n",
       "    .dataframe thead th {\n",
       "        text-align: right;\n",
       "    }\n",
       "</style>\n",
       "<table border=\"1\" class=\"dataframe\">\n",
       "  <thead>\n",
       "    <tr style=\"text-align: right;\">\n",
       "      <th></th>\n",
       "      <th>index</th>\n",
       "      <th>text</th>\n",
       "    </tr>\n",
       "  </thead>\n",
       "  <tbody>\n",
       "    <tr>\n",
       "      <th>0</th>\n",
       "      <td>1</td>\n",
       "      <td>Mmasepala, fa maemo a a kgethegileng a letlelela kgato eo.</td>\n",
       "    </tr>\n",
       "    <tr>\n",
       "      <th>1</th>\n",
       "      <td>2</td>\n",
       "      <td>Uzakwaziswa ngokufaneleko nakungafuneka eminye imitlolo engezelelako ukuqedelela ukutloliswa kwesibawo sakho.</td>\n",
       "    </tr>\n",
       "    <tr>\n",
       "      <th>2</th>\n",
       "      <td>3</td>\n",
       "      <td>Tshivhumbeo tshi fana na ngano dza vhathu.</td>\n",
       "    </tr>\n",
       "    <tr>\n",
       "      <th>3</th>\n",
       "      <td>4</td>\n",
       "      <td>Kube inja nelikati betingevakala kutsi titsini naticocisana.</td>\n",
       "    </tr>\n",
       "    <tr>\n",
       "      <th>4</th>\n",
       "      <td>5</td>\n",
       "      <td>Winste op buitelandse valuta.</td>\n",
       "    </tr>\n",
       "  </tbody>\n",
       "</table>\n",
       "</div>"
      ],
      "text/plain": [
       "   index  \\\n",
       "0      1   \n",
       "1      2   \n",
       "2      3   \n",
       "3      4   \n",
       "4      5   \n",
       "\n",
       "                                                                                                            text  \n",
       "0                                                     Mmasepala, fa maemo a a kgethegileng a letlelela kgato eo.  \n",
       "1  Uzakwaziswa ngokufaneleko nakungafuneka eminye imitlolo engezelelako ukuqedelela ukutloliswa kwesibawo sakho.  \n",
       "2                                                                     Tshivhumbeo tshi fana na ngano dza vhathu.  \n",
       "3                                                   Kube inja nelikati betingevakala kutsi titsini naticocisana.  \n",
       "4                                                                                  Winste op buitelandse valuta.  "
      ]
     },
     "execution_count": 13,
     "metadata": {},
     "output_type": "execute_result"
    }
   ],
   "source": [
    "test_df.head()"
   ]
  },
  {
   "cell_type": "code",
   "execution_count": 14,
   "id": "5405f640",
   "metadata": {},
   "outputs": [],
   "source": [
    "def custom_preprocessor(text):\n",
    "    '''\n",
    "    Make text lowercase, remove text in square brackets,remove special characters\n",
    "    and remove words containing numbers.\n",
    "    '''\n",
    "    # removing the symbols and numbers\n",
    "    text = re.sub(r'[!@#$(),\"%^*?:;~`0-9]', ' ', text)\n",
    "    text = re.sub(r'[[]]', ' ', text)\n",
    "    text = re.sub('<.*?>+', '', text)\n",
    "    text = re.sub('[%s]' % re.escape(string.punctuation), '', text)\n",
    "    # converting the text to lower case\n",
    "    text = text.lower()\n",
    "    \n",
    "    return text"
   ]
  },
  {
   "cell_type": "code",
   "execution_count": 15,
   "id": "aacaad6d",
   "metadata": {},
   "outputs": [],
   "source": [
    "train_df['text'] = train_df['text'].apply(custom_preprocessor)"
   ]
  },
  {
   "cell_type": "code",
   "execution_count": 16,
   "id": "e9dbbad8",
   "metadata": {},
   "outputs": [
    {
     "data": {
      "text/html": [
       "<div>\n",
       "<style scoped>\n",
       "    .dataframe tbody tr th:only-of-type {\n",
       "        vertical-align: middle;\n",
       "    }\n",
       "\n",
       "    .dataframe tbody tr th {\n",
       "        vertical-align: top;\n",
       "    }\n",
       "\n",
       "    .dataframe thead th {\n",
       "        text-align: right;\n",
       "    }\n",
       "</style>\n",
       "<table border=\"1\" class=\"dataframe\">\n",
       "  <thead>\n",
       "    <tr style=\"text-align: right;\">\n",
       "      <th></th>\n",
       "      <th>lang_id</th>\n",
       "      <th>text</th>\n",
       "    </tr>\n",
       "  </thead>\n",
       "  <tbody>\n",
       "    <tr>\n",
       "      <th>0</th>\n",
       "      <td>xho</td>\n",
       "      <td>umgaqosiseko wenza amalungiselelo kumaziko axhasa ulawulo lwesininzi kunye nokuthath inxaxheba kwabafazi ezi ziquka phakathi kwezinye zazo ikomishoni yokulingana ngokwesini ikomishoni yamalungelo oluntu lomzantsi afrika</td>\n",
       "    </tr>\n",
       "    <tr>\n",
       "      <th>1</th>\n",
       "      <td>xho</td>\n",
       "      <td>idha iya kuba nobulumko bokubeka umsebenzi naphi na kwisebe ngokusekwe kwiimfuno zokusebenza zalo emva kokubonana nomsebenzi kunye okanye imanyano yakhe ukuba ulandulo lomntu onjalo alufanelekanga idha mayibize uncedo olufanelekileyo elungelweni layo</td>\n",
       "    </tr>\n",
       "    <tr>\n",
       "      <th>2</th>\n",
       "      <td>eng</td>\n",
       "      <td>the province of kwazulunatal department of transport invites tenders from established contractors experienced in bridge construction for the construction of the kwajolwayo tugela river pedestrian bridge near tugela ferry the duration of the project will be months</td>\n",
       "    </tr>\n",
       "    <tr>\n",
       "      <th>3</th>\n",
       "      <td>nso</td>\n",
       "      <td>o netefatša gore o ba file dilo ka moka tše le dumelelanego ka tšona mohlala maleri a magolo a a šomišwago go fihlelela meagong e metelele scaffolds a a bolokegilego lefelo la maleba la go šomela go phela gabotse bjbj</td>\n",
       "    </tr>\n",
       "    <tr>\n",
       "      <th>4</th>\n",
       "      <td>ven</td>\n",
       "      <td>khomishini ya ndinganyiso ya mbeu yo ewa maana u ya nga mulayo wa khomishini ya ndinganyiso ya mbeu u thetshelesa mbilaelo dzine dza tshimbilelana na tshialula u ya nga mbeu nahone i ivhea sa foramu ya thungo u ya nga mulayo wa ndinganyiso</td>\n",
       "    </tr>\n",
       "  </tbody>\n",
       "</table>\n",
       "</div>"
      ],
      "text/plain": [
       "  lang_id  \\\n",
       "0     xho   \n",
       "1     xho   \n",
       "2     eng   \n",
       "3     nso   \n",
       "4     ven   \n",
       "\n",
       "                                                                                                                                                                                                                                                                      text  \n",
       "0                                              umgaqosiseko wenza amalungiselelo kumaziko axhasa ulawulo lwesininzi kunye nokuthath inxaxheba kwabafazi ezi ziquka phakathi kwezinye zazo ikomishoni yokulingana ngokwesini ikomishoni yamalungelo oluntu lomzantsi afrika  \n",
       "1               idha iya kuba nobulumko bokubeka umsebenzi naphi na kwisebe ngokusekwe kwiimfuno zokusebenza zalo emva kokubonana nomsebenzi kunye okanye imanyano yakhe ukuba ulandulo lomntu onjalo alufanelekanga idha mayibize uncedo olufanelekileyo elungelweni layo  \n",
       "2  the province of kwazulunatal department of transport invites tenders from established contractors experienced in bridge construction for the construction of the kwajolwayo tugela river pedestrian bridge near tugela ferry the duration of the project will be months  \n",
       "3                                                o netefatša gore o ba file dilo ka moka tše le dumelelanego ka tšona mohlala maleri a magolo a a šomišwago go fihlelela meagong e metelele scaffolds a a bolokegilego lefelo la maleba la go šomela go phela gabotse bjbj  \n",
       "4                          khomishini ya ndinganyiso ya mbeu yo ewa maana u ya nga mulayo wa khomishini ya ndinganyiso ya mbeu u thetshelesa mbilaelo dzine dza tshimbilelana na tshialula u ya nga mbeu nahone i ivhea sa foramu ya thungo u ya nga mulayo wa ndinganyiso  "
      ]
     },
     "execution_count": 16,
     "metadata": {},
     "output_type": "execute_result"
    }
   ],
   "source": [
    "train_df.head()"
   ]
  },
  {
   "cell_type": "code",
   "execution_count": 17,
   "id": "6089ed1e",
   "metadata": {},
   "outputs": [],
   "source": [
    "test_df['text'] = test_df['text'].apply(custom_preprocessor)"
   ]
  },
  {
   "cell_type": "code",
   "execution_count": 18,
   "id": "785c1901",
   "metadata": {},
   "outputs": [
    {
     "data": {
      "text/html": [
       "<div>\n",
       "<style scoped>\n",
       "    .dataframe tbody tr th:only-of-type {\n",
       "        vertical-align: middle;\n",
       "    }\n",
       "\n",
       "    .dataframe tbody tr th {\n",
       "        vertical-align: top;\n",
       "    }\n",
       "\n",
       "    .dataframe thead th {\n",
       "        text-align: right;\n",
       "    }\n",
       "</style>\n",
       "<table border=\"1\" class=\"dataframe\">\n",
       "  <thead>\n",
       "    <tr style=\"text-align: right;\">\n",
       "      <th></th>\n",
       "      <th>index</th>\n",
       "      <th>text</th>\n",
       "    </tr>\n",
       "  </thead>\n",
       "  <tbody>\n",
       "    <tr>\n",
       "      <th>0</th>\n",
       "      <td>1</td>\n",
       "      <td>mmasepala  fa maemo a a kgethegileng a letlelela kgato eo</td>\n",
       "    </tr>\n",
       "    <tr>\n",
       "      <th>1</th>\n",
       "      <td>2</td>\n",
       "      <td>uzakwaziswa ngokufaneleko nakungafuneka eminye imitlolo engezelelako ukuqedelela ukutloliswa kwesibawo sakho</td>\n",
       "    </tr>\n",
       "    <tr>\n",
       "      <th>2</th>\n",
       "      <td>3</td>\n",
       "      <td>tshivhumbeo tshi fana na ngano dza vhathu</td>\n",
       "    </tr>\n",
       "    <tr>\n",
       "      <th>3</th>\n",
       "      <td>4</td>\n",
       "      <td>kube inja nelikati betingevakala kutsi titsini naticocisana</td>\n",
       "    </tr>\n",
       "    <tr>\n",
       "      <th>4</th>\n",
       "      <td>5</td>\n",
       "      <td>winste op buitelandse valuta</td>\n",
       "    </tr>\n",
       "  </tbody>\n",
       "</table>\n",
       "</div>"
      ],
      "text/plain": [
       "   index  \\\n",
       "0      1   \n",
       "1      2   \n",
       "2      3   \n",
       "3      4   \n",
       "4      5   \n",
       "\n",
       "                                                                                                           text  \n",
       "0                                                     mmasepala  fa maemo a a kgethegileng a letlelela kgato eo  \n",
       "1  uzakwaziswa ngokufaneleko nakungafuneka eminye imitlolo engezelelako ukuqedelela ukutloliswa kwesibawo sakho  \n",
       "2                                                                     tshivhumbeo tshi fana na ngano dza vhathu  \n",
       "3                                                   kube inja nelikati betingevakala kutsi titsini naticocisana  \n",
       "4                                                                                  winste op buitelandse valuta  "
      ]
     },
     "execution_count": 18,
     "metadata": {},
     "output_type": "execute_result"
    }
   ],
   "source": [
    "test_df.head()"
   ]
  },
  {
   "cell_type": "code",
   "execution_count": 19,
   "id": "bfa21329",
   "metadata": {},
   "outputs": [],
   "source": [
    "# train_test split data\n",
    "X = train_df['text']\n",
    "y = train_df['lang_id']"
   ]
  },
  {
   "cell_type": "code",
   "execution_count": 20,
   "id": "6a88791b",
   "metadata": {},
   "outputs": [
    {
     "data": {
      "text/plain": [
       "(33000,)"
      ]
     },
     "execution_count": 20,
     "metadata": {},
     "output_type": "execute_result"
    }
   ],
   "source": [
    "X.shape"
   ]
  },
  {
   "cell_type": "code",
   "execution_count": 21,
   "id": "a40d6f59",
   "metadata": {},
   "outputs": [],
   "source": [
    "# Splitting Data\n",
    "X_train, X_test, y_train, y_test = train_test_split(X, y, test_size=0.2, random_state = 42)"
   ]
  },
  {
   "cell_type": "markdown",
   "id": "d16b6a3a",
   "metadata": {},
   "source": [
    "### Pipelines"
   ]
  },
  {
   "cell_type": "code",
   "execution_count": 22,
   "id": "2abbaa6b",
   "metadata": {},
   "outputs": [],
   "source": [
    "# DecisionTreeClassifier Pipeline\n",
    "tree_tfidf = Pipeline([('tfidf', TfidfVectorizer(min_df =1)),('tree', DecisionTreeClassifier()),])\n",
    "tree_count = Pipeline([('CountVec',  CountVectorizer(analyzer = 'word', \n",
    "                             tokenizer = None, \n",
    "                             preprocessor = None, \n",
    "                             stop_words = None, \n",
    "                             max_features = 20000,                     \n",
    "                             ngram_range = (1,2),\n",
    "                             lowercase = False                        \n",
    "                            )),('tree', DecisionTreeClassifier()),])\n",
    "\n",
    "\n",
    "# RandomForestClassifier Pipeline\n",
    "rfc_tfidf = Pipeline([('tfidf', TfidfVectorizer(min_df =1)), ('rfc', RandomForestClassifier())])\n",
    "rfc_count = Pipeline([('CountVec',  CountVectorizer(analyzer = 'word', \n",
    "                             tokenizer = None, \n",
    "                             preprocessor = None, \n",
    "                             stop_words = None, \n",
    "                             max_features = 20000,                   \n",
    "                             ngram_range = (1,2),\n",
    "                             lowercase = False                       \n",
    "                            )),('rfc', RandomForestClassifier()),])\n",
    "\n",
    "\n",
    "# LinearSVC Pipeline\n",
    "Lsvc_tfidf = Pipeline([('tfidf', TfidfVectorizer(min_df=1)),\n",
    "                     ('scv', LinearSVC(class_weight= 'balanced' )),])\n",
    "Lsvc_count = Pipeline([('CountVec',  CountVectorizer(analyzer = 'word', \n",
    "                             tokenizer = None, \n",
    "                             preprocessor = None, \n",
    "                             stop_words = None, \n",
    "                             max_features = 20000,                       \n",
    "                             ngram_range = (1,2),\n",
    "                             lowercase = False                        \n",
    "                            )),('svc', LinearSVC()),])\n",
    "\n",
    "# Logistic Regression pipeline\n",
    "logreg_tfidf = Pipeline([('tfidf', TfidfVectorizer(min_df=1)),('logistic', LogisticRegression()),])\n",
    "logreg_count = Pipeline([('CountVec',  CountVectorizer(analyzer = 'word', \n",
    "                             tokenizer = None, \n",
    "                             preprocessor = None, \n",
    "                             stop_words = None, \n",
    "                             max_features = 20000,                     \n",
    "                             ngram_range = (1,2),\n",
    "                             lowercase = False                          \n",
    "                            )),('logistic', LogisticRegression()),])\n",
    "\n",
    "\n",
    "\n",
    "# SGD Classifier pipeline\n",
    "SGD_tfidf = Pipeline([('tfidf', TfidfVectorizer(min_df=1)), ('SGD', SGDClassifier())])\n",
    "SGD_count = Pipeline([('CountVec',  CountVectorizer(analyzer = 'word', \n",
    "                             tokenizer = None, \n",
    "                             preprocessor = None, \n",
    "                             stop_words = None, \n",
    "                             max_features = 20000,                  \n",
    "                             ngram_range = (1,2),\n",
    "                             lowercase = False                       \n",
    "                            )),('SGD', SGDClassifier()),])\n",
    "\n",
    "\n",
    "\n",
    "\n",
    "# Support Vector Classifier Pipeline\n",
    "svc_tfidf = Pipeline([('tfidf', TfidfVectorizer(min_df=1)), ('SVC', SVC())])\n",
    "svc_count = Pipeline([('CountVec',  CountVectorizer(analyzer = 'word', \n",
    "                             tokenizer = None, \n",
    "                             preprocessor = None, \n",
    "                             stop_words = None, \n",
    "                             max_features = 20000,                   \n",
    "                             ngram_range = (1,2),\n",
    "                             lowercase = False                       \n",
    "                            )),('SVC', SVC()),])\n",
    "\n",
    "# Ridge Classifier\n",
    "ridge_tfidf = Pipeline([('tfidf', TfidfVectorizer(min_df=1)), ('Ridge', RidgeClassifier())])\n",
    "ridge_count = Pipeline([('CountVec',  CountVectorizer(analyzer = 'word', \n",
    "                             tokenizer = None, \n",
    "                             preprocessor = None, \n",
    "                             stop_words = None, \n",
    "                             max_features = 20000,                     \n",
    "                             ngram_range = (1,2),\n",
    "                             lowercase = False                         \n",
    "                            )),('Ridge', RidgeClassifier()),])\n",
    "\n",
    "# Multinomial Classifier\n",
    "multino_tfidf = Pipeline([('tfidf', TfidfVectorizer(min_df=1)), ('multi', MultinomialNB())])\n",
    "multino_count = Pipeline([('CountVec',  CountVectorizer(analyzer = 'word', \n",
    "                             tokenizer = None, \n",
    "                             preprocessor = None, \n",
    "                             stop_words = None, \n",
    "                             max_features = 20000,                     \n",
    "                             ngram_range = (1,2),\n",
    "                             lowercase = False                           \n",
    "                            )),('multi', MultinomialNB()),])"
   ]
  },
  {
   "cell_type": "markdown",
   "id": "9e49f5a2",
   "metadata": {},
   "source": [
    "#### Training models"
   ]
  },
  {
   "cell_type": "code",
   "execution_count": 23,
   "id": "d203c13e",
   "metadata": {},
   "outputs": [
    {
     "data": {
      "text/plain": [
       "Pipeline(steps=[('CountVec',\n",
       "                 CountVectorizer(lowercase=False, max_features=20000,\n",
       "                                 ngram_range=(1, 2))),\n",
       "                ('multi', MultinomialNB())])"
      ]
     },
     "execution_count": 23,
     "metadata": {},
     "output_type": "execute_result"
    }
   ],
   "source": [
    "# training the decision tree pipeline\n",
    "tree_tfidf.fit(X_train, y_train)\n",
    "tree_count.fit(X_train, y_train)\n",
    "\n",
    "# training the RandomForest pipleline\n",
    "rfc_tfidf.fit(X_train, y_train)\n",
    "rfc_count.fit(X_train, y_train)\n",
    "\n",
    "# training the LinearSVC pipeline\n",
    "Lsvc_tfidf.fit(X_train, y_train)\n",
    "Lsvc_count.fit(X_train, y_train)\n",
    "\n",
    "# training the logistic regression pipeline\n",
    "logreg_tfidf.fit(X_train, y_train)\n",
    "logreg_count.fit(X_train, y_train)\n",
    "\n",
    "# training the SGD Classifier\n",
    "SGD_tfidf.fit(X_train, y_train)\n",
    "SGD_count.fit(X_train, y_train)\n",
    "\n",
    "# training the support vector classifier\n",
    "svc_tfidf.fit(X_train, y_train)\n",
    "svc_count.fit(X_train, y_train)\n",
    "\n",
    "# training the Ridge classifier\n",
    "ridge_tfidf.fit(X_train, y_train)\n",
    "ridge_count.fit(X_train, y_train)\n",
    "\n",
    "# Training the multi classifier\n",
    "multino_tfidf.fit(X_train, y_train)\n",
    "multino_count.fit(X_train, y_train)"
   ]
  },
  {
   "cell_type": "code",
   "execution_count": 24,
   "id": "406bad5c",
   "metadata": {},
   "outputs": [],
   "source": [
    "tree_acc =  accuracy_score(y_test,tree_tfidf.predict(X_test))\n",
    "rfc_acc = accuracy_score(y_test,rfc_tfidf.predict(X_test))\n",
    "lsvc_acc = accuracy_score(y_test,Lsvc_tfidf.predict(X_test))\n",
    "log_acc = accuracy_score(y_test, logreg_tfidf.predict(X_test))\n",
    "sgd_acc = accuracy_score(y_test, SGD_tfidf.predict(X_test))\n",
    "svc_acc = accuracy_score(y_test, svc_tfidf.predict(X_test))\n",
    "ridge_acc = accuracy_score(y_test, ridge_tfidf.predict(X_test))\n",
    "multino_acc = accuracy_score(y_test, multino_tfidf.predict(X_test))"
   ]
  },
  {
   "cell_type": "code",
   "execution_count": 25,
   "id": "1e10a6c5",
   "metadata": {},
   "outputs": [],
   "source": [
    "tfidf_avg_accuracy = round(np.mean([tree_acc,rfc_acc,lsvc_acc,log_acc,sgd_acc,svc_acc,ridge_acc, multino_acc]),4)"
   ]
  },
  {
   "cell_type": "code",
   "execution_count": 50,
   "id": "9fcc85dd",
   "metadata": {},
   "outputs": [
    {
     "name": "stdout",
     "output_type": "stream",
     "text": [
      "0.9892\n"
     ]
    }
   ],
   "source": [
    "print(tfidf_avg_accuracy)"
   ]
  },
  {
   "cell_type": "code",
   "execution_count": 26,
   "id": "fb1485f0",
   "metadata": {},
   "outputs": [],
   "source": [
    "tree_acc1 =  accuracy_score(y_test,tree_count.predict(X_test))\n",
    "rfc_acc1 = accuracy_score(y_test,rfc_count.predict(X_test))\n",
    "lsvc_acc1 = accuracy_score(y_test,Lsvc_count.predict(X_test))\n",
    "log_acc1 = accuracy_score(y_test, logreg_count.predict(X_test))\n",
    "sgd_acc1 = accuracy_score(y_test, SGD_count.predict(X_test))\n",
    "svc_acc1 = accuracy_score(y_test, svc_count.predict(X_test))\n",
    "ridge_acc1 = accuracy_score(y_test, ridge_count.predict(X_test))\n",
    "multino_acc1 = accuracy_score(y_test, multino_count.predict(X_test))"
   ]
  },
  {
   "cell_type": "code",
   "execution_count": 51,
   "id": "6885eef0",
   "metadata": {},
   "outputs": [],
   "source": [
    "CountVec = round(np.mean([tree_acc1,rfc_acc1,lsvc_acc1,log_acc1,sgd_acc1,svc_acc1, ridge_acc1, multino_acc1]),4)"
   ]
  },
  {
   "cell_type": "code",
   "execution_count": 52,
   "id": "1ce548ee",
   "metadata": {},
   "outputs": [
    {
     "name": "stdout",
     "output_type": "stream",
     "text": [
      "0.985\n"
     ]
    }
   ],
   "source": [
    "print(CountVec)"
   ]
  },
  {
   "cell_type": "code",
   "execution_count": 49,
   "id": "458051b8",
   "metadata": {},
   "outputs": [
    {
     "data": {
      "image/png": "[encoded data removed]",
      "text/plain": [
       "<Figure size 576x576 with 1 Axes>"
      ]
     },
     "metadata": {
      "needs_background": "light"
     },
     "output_type": "display_data"
    }
   ],
   "source": [
    "accuracy_dict = {'TFIDF':[tfidf_avg_accuracy], 'CountVec':[CountVec]}\n",
    "accuracy_df = pd.DataFrame(accuracy_dict)\n",
    "accuracy_df.T.plot(kind='barh', figsize = (8,8),legend = False)\n",
    "plt.xlabel('Avg Accuracy Score')\n",
    "plt.ylabel('Feature Engineering Method')\n",
    "plt.yticks(rotation = 40)\n",
    "plt.title('Avg accuracy score per method')\n",
    "plt.show()"
   ]
  },
  {
   "cell_type": "markdown",
   "id": "0d99da5d",
   "metadata": {},
   "source": [
    "#### Making validations set predicions for tfidf"
   ]
  },
  {
   "cell_type": "code",
   "execution_count": 29,
   "id": "afcac201",
   "metadata": {},
   "outputs": [],
   "source": [
    "tree_prediction = tree_tfidf.predict(X_test) # DecisionTreeClassifier predictions\n",
    "rfc_prediction = rfc_tfidf.predict(X_test) # RandomForestClassifier predictions\n",
    "Lsvc_prediction = Lsvc_tfidf.predict(X_test) # LinearSVClassifier Predictions\n",
    "logreg_prediction =  logreg_tfidf.predict(X_test) # Logistic regression predictions\n",
    "SGD_prediction = SGD_tfidf.predict(X_test) # SGD Classifier predictions\n",
    "SVC_prediction = svc_tfidf.predict(X_test) # Support vector machine predictions\n",
    "ridge_prediction = ridge_tfidf.predict(X_test) # Ridge predictions\n",
    "multino_prediction = multino_tfidf.predict(X_test) # Ridge predictions"
   ]
  },
  {
   "cell_type": "markdown",
   "id": "7dbe383e",
   "metadata": {},
   "source": [
    "Linear SVC accuracy score and weighted avg f1 score"
   ]
  },
  {
   "cell_type": "code",
   "execution_count": 31,
   "id": "1d861fad",
   "metadata": {},
   "outputs": [
    {
     "name": "stdout",
     "output_type": "stream",
     "text": [
      "\n",
      "Overall accuracy score for LinearSVC Model : 0.9973\n",
      "\n",
      "Weighted avg f1 score for LinearSVC Model : 0.9973\n"
     ]
    }
   ],
   "source": [
    "linearSVC_acc = round(accuracy_score(y_test, Lsvc_prediction),4)\n",
    "print(f'\\nOverall accuracy score for LinearSVC Model : {linearSVC_acc}')\n",
    "linearSVC_f1 = round(f1_score(y_test, Lsvc_prediction, average=\"weighted\"),4)\n",
    "print(f'\\nWeighted avg f1 score for LinearSVC Model : {linearSVC_f1}')"
   ]
  },
  {
   "cell_type": "markdown",
   "id": "9596130e",
   "metadata": {},
   "source": [
    "Ridge Classifier accuracy score and weighted avg f1 score"
   ]
  },
  {
   "cell_type": "code",
   "execution_count": 32,
   "id": "74be72ba",
   "metadata": {},
   "outputs": [
    {
     "name": "stdout",
     "output_type": "stream",
     "text": [
      "\n",
      "Ridge Classifier accuracy Score : 0.9974\n",
      "\n",
      "Ridge Classifier weighted avg f1 score : 0.9974\n"
     ]
    }
   ],
   "source": [
    "# Checking the accuracy score\n",
    "ridge_acc = round(accuracy_score(y_test, ridge_prediction),4)\n",
    "print(f'\\nRidge Classifier accuracy Score : {ridge_acc}')\n",
    "ridge_f1 = round(f1_score(y_test, ridge_prediction, average=\"weighted\"),4)\n",
    "print(f'\\nRidge Classifier weighted avg f1 score : {ridge_f1}')"
   ]
  },
  {
   "cell_type": "markdown",
   "id": "b01d53e3",
   "metadata": {},
   "source": [
    "SVC classifier accuracy score and weighted avg f1 score"
   ]
  },
  {
   "cell_type": "code",
   "execution_count": 33,
   "id": "7b31a156",
   "metadata": {},
   "outputs": [
    {
     "name": "stdout",
     "output_type": "stream",
     "text": [
      "\n",
      "Support Vector Classifier accuracy Score : 0.9955\n",
      "\n",
      "Support Vector Classifier weighted avg f1 score : 0.9955\n"
     ]
    }
   ],
   "source": [
    "# Checking the accuracy score\n",
    "svc_acc = round(accuracy_score(y_test, SVC_prediction),4)\n",
    "print(f'\\nSupport Vector Classifier accuracy Score : {svc_acc}')\n",
    "svc_f1 = round(f1_score(y_test, SVC_prediction, average=\"weighted\"),4)\n",
    "print(f'\\nSupport Vector Classifier weighted avg f1 score : {svc_f1}')"
   ]
  },
  {
   "cell_type": "markdown",
   "id": "868109f7",
   "metadata": {},
   "source": [
    "SGD classifier accuracy score and weighted avg f1 score"
   ]
  },
  {
   "cell_type": "code",
   "execution_count": 34,
   "id": "882a6a47",
   "metadata": {},
   "outputs": [
    {
     "name": "stdout",
     "output_type": "stream",
     "text": [
      "\n",
      "SGD Classifier accuracy Score :\n",
      " 0.997\n",
      "\n",
      "SGD weighted avg f1_score :\n",
      " 0.997\n"
     ]
    }
   ],
   "source": [
    "# Checking the accuracy score\n",
    "sgd_acc = round(accuracy_score(y_test, SGD_prediction),4)\n",
    "print('\\nSGD Classifier accuracy Score :\\n', sgd_acc)\n",
    "\n",
    "# Checking the f1_score report for the decison tree model\n",
    "sgd_f1 = round(f1_score(y_test, SGD_prediction, average=\"weighted\"),4)\n",
    "print('\\nSGD weighted avg f1_score :\\n', sgd_f1)"
   ]
  },
  {
   "cell_type": "markdown",
   "id": "8dae51db",
   "metadata": {},
   "source": [
    "Logistic classifier accuracy score and weighted avg f1 score"
   ]
  },
  {
   "cell_type": "code",
   "execution_count": 35,
   "id": "2c4f7dd1",
   "metadata": {},
   "outputs": [
    {
     "name": "stdout",
     "output_type": "stream",
     "text": [
      "\n",
      "Logistic Regression accuracy Score\n",
      " 0.9948\n",
      "\n",
      "Logistic Regression weighted f1 score\n",
      " 0.9949\n"
     ]
    }
   ],
   "source": [
    "logistic_reg_acc = round(accuracy_score(y_test, logreg_prediction),4)\n",
    "print('\\nLogistic Regression accuracy Score\\n', logistic_reg_acc)\n",
    "logistic_reg_f1 = round(f1_score(y_test, logreg_prediction, average=\"weighted\"),4)\n",
    "print('\\nLogistic Regression weighted f1 score\\n', logistic_reg_f1)"
   ]
  },
  {
   "cell_type": "markdown",
   "id": "b82c8e90",
   "metadata": {},
   "source": [
    "Decision classifier accuracy score and weighted avg f1 score"
   ]
  },
  {
   "cell_type": "code",
   "execution_count": 36,
   "id": "ead21d8b",
   "metadata": {},
   "outputs": [
    {
     "name": "stdout",
     "output_type": "stream",
     "text": [
      "\n",
      "Overall accuracy score for Decision Tree : 0.948\n",
      "\n",
      "Weighted avg f1 score Decision Tree 0.9481\n"
     ]
    }
   ],
   "source": [
    "# Print the overall accuracy\n",
    "decison_tree_acc = round(accuracy_score(y_test, tree_prediction),4)\n",
    "print(f'\\nOverall accuracy score for Decision Tree : {decison_tree_acc}')\n",
    "decision_tree_f1 = round(f1_score(y_test, tree_prediction, average=\"weighted\"),4)\n",
    "print(f'\\nWeighted avg f1 score Decision Tree {decision_tree_f1}' )"
   ]
  },
  {
   "cell_type": "markdown",
   "id": "5ed927f3",
   "metadata": {},
   "source": [
    "Random classifier accuracy score and weighted avg f1 score"
   ]
  },
  {
   "cell_type": "code",
   "execution_count": 37,
   "id": "738c28c2",
   "metadata": {},
   "outputs": [
    {
     "name": "stdout",
     "output_type": "stream",
     "text": [
      "\n",
      "Overal accuracy score for RandomForestClassifier :0.9852\n",
      "\n",
      "Weighted f1 score for RandomForestClassifier : 0.9852\n"
     ]
    }
   ],
   "source": [
    "random_forest_acc = round(accuracy_score(y_test, rfc_prediction),4)\n",
    "print(f'\\nOverall accuracy score for RandomForestClassifier :{random_forest_acc}')\n",
    "random_forest_f1 = round(f1_score(y_test, rfc_prediction, average=\"weighted\"),4)\n",
    "print(f'\\nWeighted f1 score for RandomForestClassifier : {random_forest_f1}')"
   ]
  },
  {
   "cell_type": "markdown",
   "id": "032693f0",
   "metadata": {},
   "source": [
    "Multinomial classifier accuracy score and weighted avg f1 score"
   ]
  },
  {
   "cell_type": "code",
   "execution_count": 38,
   "id": "da5a1b7b",
   "metadata": {},
   "outputs": [
    {
     "name": "stdout",
     "output_type": "stream",
     "text": [
      "\n",
      "Multino Classifier accuracy Score : 0.9985\n",
      "\n",
      "Multino Classifier weighted avg f1 score : 0.9985\n"
     ]
    }
   ],
   "source": [
    "# Checking the accuracy score\n",
    "multino_acc = round(accuracy_score(y_test, multino_prediction),4)\n",
    "print(f'\\nMultino Classifier accuracy Score : {multino_acc}')\n",
    "multino_f1 = round(f1_score(y_test, multino_prediction, average=\"weighted\"),4)\n",
    "print(f'\\nMultino Classifier weighted avg f1 score : {multino_f1}')"
   ]
  },
  {
   "cell_type": "markdown",
   "id": "69fbe0b0",
   "metadata": {},
   "source": [
    "#### Hyperparameter tuning multinomial classifier"
   ]
  },
  {
   "cell_type": "code",
   "execution_count": 39,
   "id": "93522cfc",
   "metadata": {},
   "outputs": [],
   "source": [
    "from sklearn.model_selection import GridSearchCV"
   ]
  },
  {
   "cell_type": "code",
   "execution_count": 40,
   "id": "d31ca743",
   "metadata": {},
   "outputs": [
    {
     "name": "stdout",
     "output_type": "stream",
     "text": [
      "Best Score:  0.999128787878788\n",
      "Best Params:  {'multi__alpha': 0.5, 'multi__fit_prior': True}\n"
     ]
    }
   ],
   "source": [
    "grid_params = {\n",
    "  'multi__alpha': np.linspace(0.5, 1.5, 6),\n",
    "  'multi__fit_prior': [True, False],\n",
    "}\n",
    "clf = GridSearchCV(multino_tfidf, grid_params)\n",
    "clf.fit(X_train, y_train)\n",
    "print(\"Best Score: \", clf.best_score_)\n",
    "print(\"Best Params: \", clf.best_params_)"
   ]
  },
  {
   "cell_type": "code",
   "execution_count": 41,
   "id": "e7fb02c0",
   "metadata": {},
   "outputs": [],
   "source": [
    "# Multinomial Classifier TUNED\n",
    "multino_tfidf_tuned = Pipeline([('tfidf', TfidfVectorizer(ngram_range=(1, 6),\n",
    "                             analyzer='char')), ('multi', MultinomialNB(alpha = 0.7, fit_prior = False, class_prior = None\n",
    "))])"
   ]
  },
  {
   "cell_type": "code",
   "execution_count": 42,
   "id": "9f9500dd",
   "metadata": {},
   "outputs": [
    {
     "data": {
      "text/plain": [
       "Pipeline(steps=[('tfidf', TfidfVectorizer(analyzer='char', ngram_range=(1, 6))),\n",
       "                ('multi', MultinomialNB(alpha=0.7, fit_prior=False))])"
      ]
     },
     "execution_count": 42,
     "metadata": {},
     "output_type": "execute_result"
    }
   ],
   "source": [
    "# Training the multi classifier\n",
    "multino_tfidf_tuned.fit(X_train, y_train)"
   ]
  },
  {
   "cell_type": "code",
   "execution_count": 44,
   "id": "2578fd16",
   "metadata": {},
   "outputs": [],
   "source": [
    "multino1_prediction = multino_tfidf_tuned.predict(X_test)"
   ]
  },
  {
   "cell_type": "code",
   "execution_count": 45,
   "id": "95862b25",
   "metadata": {},
   "outputs": [
    {
     "name": "stdout",
     "output_type": "stream",
     "text": [
      "\n",
      "Multino Classifier accuracy Score : 0.9992\n",
      "\n",
      "Multino Classifier weighted avg f1 score : 0.9992\n"
     ]
    }
   ],
   "source": [
    "# Checking the accuracy score\n",
    "multino_acc = round(accuracy_score(y_test, multino1_prediction),4)\n",
    "print(f'\\nMultino Classifier accuracy Score : {multino_acc}')\n",
    "multino_f1 = round(f1_score(y_test, multino1_prediction, average=\"weighted\"),4)\n",
    "print(f'\\nMultino Classifier weighted avg f1 score : {multino_f1}')"
   ]
  },
  {
   "cell_type": "markdown",
   "id": "b97f111e",
   "metadata": {},
   "source": [
    "#### Final Model Creation and CSV export"
   ]
  },
  {
   "cell_type": "markdown",
   "id": "3865d9c5",
   "metadata": {},
   "source": [
    "Multinomial classifier"
   ]
  },
  {
   "cell_type": "code",
   "execution_count": 46,
   "id": "daa0f8ad",
   "metadata": {},
   "outputs": [
    {
     "name": "stdout",
     "output_type": "stream",
     "text": [
      "['tsn' 'nbl' 'ven' ... 'sot' 'sot' 'nbl']\n"
     ]
    }
   ],
   "source": [
    "final_pred2 = multino_tfidf_tuned.predict(test_df['text'])\n",
    "print(final_pred2)"
   ]
  },
  {
   "cell_type": "code",
   "execution_count": 47,
   "id": "f53ec136",
   "metadata": {},
   "outputs": [],
   "source": [
    "submission = pd.DataFrame({'index': test_df['index'], 'lang_id': final_pred2 })\n",
    "submission.to_csv('multino2_submission.csv', index = False)"
   ]
  },
  {
   "cell_type": "code",
   "execution_count": null,
   "id": "630cf4ee",
   "metadata": {},
   "outputs": [],
   "source": []
  }
 ],
 "metadata": {
  "kernelspec": {
   "display_name": "Python 3",
   "language": "python",
   "name": "python3"
  },
  "language_info": {
   "codemirror_mode": {
    "name": "ipython",
    "version": 3
   },
   "file_extension": ".py",
   "mimetype": "text/x-python",
   "name": "python",
   "nbconvert_exporter": "python",
   "pygments_lexer": "ipython3",
   "version": "3.8.8"
  }
 },
 "nbformat": 4,
 "nbformat_minor": 5
}
